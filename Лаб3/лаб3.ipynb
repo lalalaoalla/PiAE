{
 "cells": [
  {
   "attachments": {
    "image.png": {
     "image/png": "[encoded data removed]"
    }
   },
   "cell_type": "markdown",
   "metadata": {},
   "source": [
    "![image.png](attachment:image.png)"
   ]
  },
  {
   "cell_type": "markdown",
   "metadata": {},
   "source": [
    "Модель остается той же"
   ]
  },
  {
   "cell_type": "code",
   "execution_count": 2,
   "metadata": {},
   "outputs": [
    {
     "data": {
      "text/plain": [
       "'%.3f'"
      ]
     },
     "execution_count": 2,
     "metadata": {},
     "output_type": "execute_result"
    }
   ],
   "source": [
    "%precision 3"
   ]
  },
  {
   "cell_type": "code",
   "execution_count": null,
   "metadata": {},
   "outputs": [],
   "source": [
    "#импорт библиотек\n",
    "import numpy as np\n",
    "import matplotlib.pyplot as plt\n",
    "from numpy.linalg import inv"
   ]
  },
  {
   "cell_type": "code",
   "execution_count": 4,
   "metadata": {},
   "outputs": [],
   "source": [
    "#изначальные параметры\n",
    "m = 6#количество неизвестных параметров\n",
    "# для сетки 30х30 изначальное количество точек будет равно 900\n",
    "N_list = [20, 25, 30, 35, 40]#для такой размерности нужно делать\n",
    "grid_size = [20, 30]#30\n",
    "n = grid_size[0]*grid_size[0]#почему это определяется как разм_стеки х разм_сетки хз\n",
    "s = n#для итераций\n",
    "p=[0]*n#наши изначальные пэшки"
   ]
  },
  {
   "cell_type": "code",
   "execution_count": 5,
   "metadata": {},
   "outputs": [],
   "source": [
    "# наша функция\n",
    "def func(x):\n",
    "    return np.array([1, x[0], x[1], x[0]*x[1], x[0]**2, x[1]**2])"
   ]
  },
  {
   "cell_type": "code",
   "execution_count": 6,
   "metadata": {},
   "outputs": [],
   "source": [
    "# Информационная матрица\n",
    "def M_calc(x, p, m):\n",
    "    n_rg = np.count_nonzero(p)\n",
    "    # Если n_rg < m, то матрица вырожденная, мы её регуляризируем\n",
    "\n",
    "    M = np.zeros((m, m))\n",
    "    for i in range(n):\n",
    "        M += p[i] * np.outer(func(x[i]), func(x[i]))\n",
    "    \n",
    "    # Регуляризация\n",
    "    if n_rg < m:\n",
    "        gamma = 0.1\n",
    "        M += gamma * np.eye(m)\n",
    "    return M"
   ]
  },
  {
   "cell_type": "code",
   "execution_count": 7,
   "metadata": {},
   "outputs": [],
   "source": [
    "#Дисперсионная матрица\n",
    "def D_calc(M):\n",
    "    return np.linalg.inv(M)"
   ]
  },
  {
   "cell_type": "code",
   "execution_count": 8,
   "metadata": {},
   "outputs": [],
   "source": [
    "def X_calc(grid_size):\n",
    "    #создаем по 20(30) точек в этом отрезке\n",
    "    x1 = np.linspace(-1,1,grid_size)\n",
    "    x2 = np.linspace(-1,1,grid_size)\n",
    "    #для создания в целом квадрата точек\n",
    "    X1, X2 = np.meshgrid(x1, x2)#матрицы, где каждая строка копия x1(x2)\n",
    "    X = np.column_stack([X1.ravel(), X2.ravel()])#преобразе матрицы в вектора, и выводим координаты\n",
    "    return X"
   ]
  },
  {
   "cell_type": "code",
   "execution_count": 9,
   "metadata": {},
   "outputs": [],
   "source": [
    "def d_calc(x, D):\n",
    "    return func(x) @ D @ func(x).T"
   ]
  },
  {
   "cell_type": "code",
   "execution_count": 10,
   "metadata": {},
   "outputs": [
    {
     "data": {
      "text/plain": [
       "400"
      ]
     },
     "execution_count": 10,
     "metadata": {},
     "output_type": "execute_result"
    }
   ],
   "source": [
    "#изначальные матрицы и х\n",
    "x = X_calc(grid_size[0])\n",
    "M = M_calc(x, p, m)\n",
    "D = D_calc(M)\n",
    "len(x)"
   ]
  },
  {
   "cell_type": "code",
   "execution_count": 11,
   "metadata": {},
   "outputs": [
    {
     "name": "stdout",
     "output_type": "stream",
     "text": [
      "Протокол решения к плану с сеткой 20x20 и c количеством наблюдений 20\n",
      "i (индекс) -> x[i] (добавленной) -> p[i] (изменёный у x) -> max (f M f.T)\n",
      "0 \t -1.0 -1.0 \t 1.0 \t 60.0\n",
      "399 \t 1.0 1.0 \t 0.5 \t 53.443\n",
      "19 \t 1.0 -1.0 \t 0.333 \t 50.244\n",
      "380 \t -1.0 1.0 \t 0.25 \t 48.35\n",
      "10 \t 0.053 -1.0 \t 0.2 \t 7.975\n",
      "199 \t 1.0 -0.053 \t 0.167 \t 7.749\n",
      "209 \t -0.053 0.053 \t 0.143 \t 17.181\n",
      "180 \t -1.0 -0.053 \t 0.125 \t 9.636\n",
      "390 \t 0.053 1.0 \t 0.111 \t 9.705\n",
      "380 \t -1.0 1.0 \t 0.2 \t 7.475\n",
      "0 \t -1.0 -1.0 \t 0.182 \t 8.042\n",
      "399 \t 1.0 1.0 \t 0.167 \t 8.731\n",
      "19 \t 1.0 -1.0 \t 0.154 \t 9.228\n",
      "190 \t 0.053 -0.053 \t 0.071 \t 6.89\n",
      "219 \t 1.0 0.053 \t 0.067 \t 6.309\n",
      "380 \t -1.0 1.0 \t 0.188 \t 6.664\n",
      "0 \t -1.0 -1.0 \t 0.176 \t 6.995\n",
      "399 \t 1.0 1.0 \t 0.167 \t 7.169\n",
      "19 \t 1.0 -1.0 \t 0.158 \t 7.579\n",
      "10 \t 0.053 -1.0 \t 0.1 \t 7.547\n",
      "\n",
      "\n",
      "\n",
      "\n",
      " \n",
      "Протокол решения к плану с сеткой 20x20 и c количеством наблюдений 25\n",
      "i (индекс) -> x[i] (добавленной) -> p[i] (изменёный у x) -> max (f M f.T)\n",
      "0 \t -1.0 -1.0 \t 1.0 \t 60.0\n",
      "399 \t 1.0 1.0 \t 0.5 \t 53.443\n",
      "19 \t 1.0 -1.0 \t 0.333 \t 50.244\n",
      "380 \t -1.0 1.0 \t 0.25 \t 48.35\n",
      "10 \t 0.053 -1.0 \t 0.2 \t 7.975\n",
      "199 \t 1.0 -0.053 \t 0.167 \t 7.749\n",
      "209 \t -0.053 0.053 \t 0.143 \t 17.181\n",
      "180 \t -1.0 -0.053 \t 0.125 \t 9.636\n",
      "390 \t 0.053 1.0 \t 0.111 \t 9.705\n",
      "380 \t -1.0 1.0 \t 0.2 \t 7.475\n",
      "0 \t -1.0 -1.0 \t 0.182 \t 8.042\n",
      "399 \t 1.0 1.0 \t 0.167 \t 8.731\n",
      "19 \t 1.0 -1.0 \t 0.154 \t 9.228\n",
      "190 \t 0.053 -0.053 \t 0.071 \t 6.89\n",
      "219 \t 1.0 0.053 \t 0.067 \t 6.309\n",
      "380 \t -1.0 1.0 \t 0.188 \t 6.664\n",
      "0 \t -1.0 -1.0 \t 0.176 \t 6.995\n",
      "399 \t 1.0 1.0 \t 0.167 \t 7.169\n",
      "19 \t 1.0 -1.0 \t 0.158 \t 7.579\n",
      "10 \t 0.053 -1.0 \t 0.1 \t 7.547\n",
      "390 \t 0.053 1.0 \t 0.095 \t 6.99\n",
      "200 \t -1.0 0.053 \t 0.045 \t 7.138\n",
      "0 \t -1.0 -1.0 \t 0.174 \t 6.33\n",
      "380 \t -1.0 1.0 \t 0.167 \t 6.617\n",
      "399 \t 1.0 1.0 \t 0.16 \t 6.753\n",
      "\n",
      "\n",
      "\n",
      "\n",
      " \n",
      "Протокол решения к плану с сеткой 20x20 и c количеством наблюдений 30\n",
      "i (индекс) -> x[i] (добавленной) -> p[i] (изменёный у x) -> max (f M f.T)\n",
      "0 \t -1.0 -1.0 \t 1.0 \t 60.0\n",
      "399 \t 1.0 1.0 \t 0.5 \t 53.443\n",
      "19 \t 1.0 -1.0 \t 0.333 \t 50.244\n",
      "380 \t -1.0 1.0 \t 0.25 \t 48.35\n",
      "10 \t 0.053 -1.0 \t 0.2 \t 7.975\n",
      "199 \t 1.0 -0.053 \t 0.167 \t 7.749\n",
      "209 \t -0.053 0.053 \t 0.143 \t 17.181\n",
      "180 \t -1.0 -0.053 \t 0.125 \t 9.636\n",
      "390 \t 0.053 1.0 \t 0.111 \t 9.705\n",
      "380 \t -1.0 1.0 \t 0.2 \t 7.475\n",
      "0 \t -1.0 -1.0 \t 0.182 \t 8.042\n",
      "399 \t 1.0 1.0 \t 0.167 \t 8.731\n",
      "19 \t 1.0 -1.0 \t 0.154 \t 9.228\n",
      "190 \t 0.053 -0.053 \t 0.071 \t 6.89\n",
      "219 \t 1.0 0.053 \t 0.067 \t 6.309\n",
      "380 \t -1.0 1.0 \t 0.188 \t 6.664\n",
      "0 \t -1.0 -1.0 \t 0.176 \t 6.995\n",
      "399 \t 1.0 1.0 \t 0.167 \t 7.169\n",
      "19 \t 1.0 -1.0 \t 0.158 \t 7.579\n",
      "10 \t 0.053 -1.0 \t 0.1 \t 7.547\n",
      "390 \t 0.053 1.0 \t 0.095 \t 6.99\n",
      "200 \t -1.0 0.053 \t 0.045 \t 7.138\n",
      "0 \t -1.0 -1.0 \t 0.174 \t 6.33\n",
      "380 \t -1.0 1.0 \t 0.167 \t 6.617\n",
      "399 \t 1.0 1.0 \t 0.16 \t 6.753\n",
      "19 \t 1.0 -1.0 \t 0.154 \t 7.033\n",
      "189 \t -0.053 -0.053 \t 0.037 \t 6.894\n",
      "219 \t 1.0 0.053 \t 0.071 \t 6.278\n",
      "390 \t 0.053 1.0 \t 0.103 \t 6.364\n",
      "0 \t -1.0 -1.0 \t 0.167 \t 6.398\n",
      "\n",
      "\n",
      "\n",
      "\n",
      " \n",
      "Протокол решения к плану с сеткой 20x20 и c количеством наблюдений 35\n",
      "i (индекс) -> x[i] (добавленной) -> p[i] (изменёный у x) -> max (f M f.T)\n",
      "0 \t -1.0 -1.0 \t 1.0 \t 60.0\n",
      "399 \t 1.0 1.0 \t 0.5 \t 53.443\n",
      "19 \t 1.0 -1.0 \t 0.333 \t 50.244\n",
      "380 \t -1.0 1.0 \t 0.25 \t 48.35\n",
      "10 \t 0.053 -1.0 \t 0.2 \t 7.975\n",
      "199 \t 1.0 -0.053 \t 0.167 \t 7.749\n",
      "209 \t -0.053 0.053 \t 0.143 \t 17.181\n",
      "180 \t -1.0 -0.053 \t 0.125 \t 9.636\n",
      "390 \t 0.053 1.0 \t 0.111 \t 9.705\n",
      "380 \t -1.0 1.0 \t 0.2 \t 7.475\n",
      "0 \t -1.0 -1.0 \t 0.182 \t 8.042\n",
      "399 \t 1.0 1.0 \t 0.167 \t 8.731\n",
      "19 \t 1.0 -1.0 \t 0.154 \t 9.228\n",
      "190 \t 0.053 -0.053 \t 0.071 \t 6.89\n",
      "219 \t 1.0 0.053 \t 0.067 \t 6.309\n",
      "380 \t -1.0 1.0 \t 0.188 \t 6.664\n",
      "0 \t -1.0 -1.0 \t 0.176 \t 6.995\n",
      "399 \t 1.0 1.0 \t 0.167 \t 7.169\n",
      "19 \t 1.0 -1.0 \t 0.158 \t 7.579\n",
      "10 \t 0.053 -1.0 \t 0.1 \t 7.547\n",
      "390 \t 0.053 1.0 \t 0.095 \t 6.99\n",
      "200 \t -1.0 0.053 \t 0.045 \t 7.138\n",
      "0 \t -1.0 -1.0 \t 0.174 \t 6.33\n",
      "380 \t -1.0 1.0 \t 0.167 \t 6.617\n",
      "399 \t 1.0 1.0 \t 0.16 \t 6.753\n",
      "19 \t 1.0 -1.0 \t 0.154 \t 7.033\n",
      "189 \t -0.053 -0.053 \t 0.037 \t 6.894\n",
      "219 \t 1.0 0.053 \t 0.071 \t 6.278\n",
      "390 \t 0.053 1.0 \t 0.103 \t 6.364\n",
      "0 \t -1.0 -1.0 \t 0.167 \t 6.398\n",
      "380 \t -1.0 1.0 \t 0.161 \t 6.542\n",
      "19 \t 1.0 -1.0 \t 0.156 \t 6.647\n",
      "399 \t 1.0 1.0 \t 0.152 \t 6.686\n",
      "10 \t 0.053 -1.0 \t 0.088 \t 6.654\n",
      "200 \t -1.0 0.053 \t 0.057 \t 6.733\n",
      "\n",
      "\n",
      "\n",
      "\n",
      " \n",
      "Протокол решения к плану с сеткой 20x20 и c количеством наблюдений 40\n",
      "i (индекс) -> x[i] (добавленной) -> p[i] (изменёный у x) -> max (f M f.T)\n",
      "0 \t -1.0 -1.0 \t 1.0 \t 60.0\n",
      "399 \t 1.0 1.0 \t 0.5 \t 53.443\n",
      "19 \t 1.0 -1.0 \t 0.333 \t 50.244\n",
      "380 \t -1.0 1.0 \t 0.25 \t 48.35\n",
      "10 \t 0.053 -1.0 \t 0.2 \t 7.975\n",
      "199 \t 1.0 -0.053 \t 0.167 \t 7.749\n",
      "209 \t -0.053 0.053 \t 0.143 \t 17.181\n",
      "180 \t -1.0 -0.053 \t 0.125 \t 9.636\n",
      "390 \t 0.053 1.0 \t 0.111 \t 9.705\n",
      "380 \t -1.0 1.0 \t 0.2 \t 7.475\n",
      "0 \t -1.0 -1.0 \t 0.182 \t 8.042\n",
      "399 \t 1.0 1.0 \t 0.167 \t 8.731\n",
      "19 \t 1.0 -1.0 \t 0.154 \t 9.228\n",
      "190 \t 0.053 -0.053 \t 0.071 \t 6.89\n",
      "219 \t 1.0 0.053 \t 0.067 \t 6.309\n",
      "380 \t -1.0 1.0 \t 0.188 \t 6.664\n",
      "0 \t -1.0 -1.0 \t 0.176 \t 6.995\n",
      "399 \t 1.0 1.0 \t 0.167 \t 7.169\n",
      "19 \t 1.0 -1.0 \t 0.158 \t 7.579\n",
      "10 \t 0.053 -1.0 \t 0.1 \t 7.547\n",
      "390 \t 0.053 1.0 \t 0.095 \t 6.99\n",
      "200 \t -1.0 0.053 \t 0.045 \t 7.138\n",
      "0 \t -1.0 -1.0 \t 0.174 \t 6.33\n",
      "380 \t -1.0 1.0 \t 0.167 \t 6.617\n",
      "399 \t 1.0 1.0 \t 0.16 \t 6.753\n",
      "19 \t 1.0 -1.0 \t 0.154 \t 7.033\n",
      "189 \t -0.053 -0.053 \t 0.037 \t 6.894\n",
      "219 \t 1.0 0.053 \t 0.071 \t 6.278\n",
      "390 \t 0.053 1.0 \t 0.103 \t 6.364\n",
      "0 \t -1.0 -1.0 \t 0.167 \t 6.398\n",
      "380 \t -1.0 1.0 \t 0.161 \t 6.542\n",
      "19 \t 1.0 -1.0 \t 0.156 \t 6.647\n",
      "399 \t 1.0 1.0 \t 0.152 \t 6.686\n",
      "10 \t 0.053 -1.0 \t 0.088 \t 6.654\n",
      "200 \t -1.0 0.053 \t 0.057 \t 6.733\n",
      "209 \t -0.053 0.053 \t 0.056 \t 6.25\n",
      "0 \t -1.0 -1.0 \t 0.162 \t 6.302\n",
      "380 \t -1.0 1.0 \t 0.158 \t 6.438\n",
      "19 \t 1.0 -1.0 \t 0.154 \t 6.511\n",
      "399 \t 1.0 1.0 \t 0.15 \t 6.643\n",
      "\n",
      "\n",
      "\n",
      "\n",
      " \n",
      "Протокол решения к плану с сеткой 30x30 и c количеством наблюдений 20\n",
      "i (индекс) -> x[i] (добавленной) -> p[i] (изменёный у x) -> max (f M f.T)\n",
      "0 \t -1.0 -1.0 \t 1.0 \t 60.0\n",
      "899 \t 1.0 1.0 \t 0.5 \t 53.443\n",
      "29 \t 1.0 -1.0 \t 0.333 \t 50.244\n",
      "870 \t -1.0 1.0 \t 0.25 \t 48.35\n",
      "14 \t -0.034 -1.0 \t 0.2 \t 7.993\n",
      "420 \t -1.0 -0.034 \t 0.167 \t 7.745\n",
      "496 \t 0.103 0.103 \t 0.143 \t 17.039\n",
      "883 \t -0.103 1.0 \t 0.125 \t 9.617\n",
      "449 \t 1.0 -0.034 \t 0.111 \t 9.549\n",
      "899 \t 1.0 1.0 \t 0.2 \t 7.549\n",
      "29 \t 1.0 -1.0 \t 0.182 \t 8.063\n",
      "870 \t -1.0 1.0 \t 0.167 \t 8.579\n",
      "0 \t -1.0 -1.0 \t 0.154 \t 9.273\n",
      "434 \t -0.034 -0.034 \t 0.071 \t 6.988\n",
      "450 \t -1.0 0.034 \t 0.067 \t 6.353\n",
      "899 \t 1.0 1.0 \t 0.188 \t 6.692\n",
      "29 \t 1.0 -1.0 \t 0.176 \t 7.004\n",
      "0 \t -1.0 -1.0 \t 0.167 \t 7.164\n",
      "870 \t -1.0 1.0 \t 0.158 \t 7.524\n",
      "14 \t -0.034 -1.0 \t 0.1 \t 7.607\n",
      "\n",
      "\n",
      "\n",
      "\n",
      " \n",
      "Протокол решения к плану с сеткой 30x30 и c количеством наблюдений 25\n",
      "i (индекс) -> x[i] (добавленной) -> p[i] (изменёный у x) -> max (f M f.T)\n",
      "0 \t -1.0 -1.0 \t 1.0 \t 60.0\n",
      "899 \t 1.0 1.0 \t 0.5 \t 53.443\n",
      "29 \t 1.0 -1.0 \t 0.333 \t 50.244\n",
      "870 \t -1.0 1.0 \t 0.25 \t 48.35\n",
      "14 \t -0.034 -1.0 \t 0.2 \t 7.993\n",
      "420 \t -1.0 -0.034 \t 0.167 \t 7.745\n",
      "496 \t 0.103 0.103 \t 0.143 \t 17.039\n",
      "883 \t -0.103 1.0 \t 0.125 \t 9.617\n",
      "449 \t 1.0 -0.034 \t 0.111 \t 9.549\n",
      "899 \t 1.0 1.0 \t 0.2 \t 7.549\n",
      "29 \t 1.0 -1.0 \t 0.182 \t 8.063\n",
      "870 \t -1.0 1.0 \t 0.167 \t 8.579\n",
      "0 \t -1.0 -1.0 \t 0.154 \t 9.273\n",
      "434 \t -0.034 -0.034 \t 0.071 \t 6.988\n",
      "450 \t -1.0 0.034 \t 0.067 \t 6.353\n",
      "899 \t 1.0 1.0 \t 0.188 \t 6.692\n",
      "29 \t 1.0 -1.0 \t 0.176 \t 7.004\n",
      "0 \t -1.0 -1.0 \t 0.167 \t 7.164\n",
      "870 \t -1.0 1.0 \t 0.158 \t 7.524\n",
      "14 \t -0.034 -1.0 \t 0.1 \t 7.607\n",
      "884 \t -0.034 1.0 \t 0.048 \t 6.992\n",
      "479 \t 1.0 0.034 \t 0.045 \t 7.101\n",
      "899 \t 1.0 1.0 \t 0.174 \t 6.357\n",
      "29 \t 1.0 -1.0 \t 0.167 \t 6.603\n",
      "0 \t -1.0 -1.0 \t 0.16 \t 6.761\n",
      "\n",
      "\n",
      "\n",
      "\n",
      " \n",
      "Протокол решения к плану с сеткой 30x30 и c количеством наблюдений 30\n",
      "i (индекс) -> x[i] (добавленной) -> p[i] (изменёный у x) -> max (f M f.T)\n",
      "0 \t -1.0 -1.0 \t 1.0 \t 60.0\n",
      "899 \t 1.0 1.0 \t 0.5 \t 53.443\n",
      "29 \t 1.0 -1.0 \t 0.333 \t 50.244\n",
      "870 \t -1.0 1.0 \t 0.25 \t 48.35\n",
      "14 \t -0.034 -1.0 \t 0.2 \t 7.993\n",
      "420 \t -1.0 -0.034 \t 0.167 \t 7.745\n",
      "496 \t 0.103 0.103 \t 0.143 \t 17.039\n",
      "883 \t -0.103 1.0 \t 0.125 \t 9.617\n",
      "449 \t 1.0 -0.034 \t 0.111 \t 9.549\n",
      "899 \t 1.0 1.0 \t 0.2 \t 7.549\n",
      "29 \t 1.0 -1.0 \t 0.182 \t 8.063\n",
      "870 \t -1.0 1.0 \t 0.167 \t 8.579\n",
      "0 \t -1.0 -1.0 \t 0.154 \t 9.273\n",
      "434 \t -0.034 -0.034 \t 0.071 \t 6.988\n",
      "450 \t -1.0 0.034 \t 0.067 \t 6.353\n",
      "899 \t 1.0 1.0 \t 0.188 \t 6.692\n",
      "29 \t 1.0 -1.0 \t 0.176 \t 7.004\n",
      "0 \t -1.0 -1.0 \t 0.167 \t 7.164\n",
      "870 \t -1.0 1.0 \t 0.158 \t 7.524\n",
      "14 \t -0.034 -1.0 \t 0.1 \t 7.607\n",
      "884 \t -0.034 1.0 \t 0.048 \t 6.992\n",
      "479 \t 1.0 0.034 \t 0.045 \t 7.101\n",
      "899 \t 1.0 1.0 \t 0.174 \t 6.357\n",
      "29 \t 1.0 -1.0 \t 0.167 \t 6.603\n",
      "0 \t -1.0 -1.0 \t 0.16 \t 6.761\n",
      "870 \t -1.0 1.0 \t 0.154 \t 7.014\n",
      "435 \t 0.034 -0.034 \t 0.037 \t 6.935\n",
      "420 \t -1.0 -0.034 \t 0.071 \t 6.291\n",
      "14 \t -0.034 -1.0 \t 0.103 \t 6.368\n",
      "899 \t 1.0 1.0 \t 0.167 \t 6.409\n",
      "\n",
      "\n",
      "\n",
      "\n",
      " \n",
      "Протокол решения к плану с сеткой 30x30 и c количеством наблюдений 35\n",
      "i (индекс) -> x[i] (добавленной) -> p[i] (изменёный у x) -> max (f M f.T)\n",
      "0 \t -1.0 -1.0 \t 1.0 \t 60.0\n",
      "899 \t 1.0 1.0 \t 0.5 \t 53.443\n",
      "29 \t 1.0 -1.0 \t 0.333 \t 50.244\n",
      "870 \t -1.0 1.0 \t 0.25 \t 48.35\n",
      "14 \t -0.034 -1.0 \t 0.2 \t 7.993\n",
      "420 \t -1.0 -0.034 \t 0.167 \t 7.745\n",
      "496 \t 0.103 0.103 \t 0.143 \t 17.039\n",
      "883 \t -0.103 1.0 \t 0.125 \t 9.617\n",
      "449 \t 1.0 -0.034 \t 0.111 \t 9.549\n",
      "899 \t 1.0 1.0 \t 0.2 \t 7.549\n",
      "29 \t 1.0 -1.0 \t 0.182 \t 8.063\n",
      "870 \t -1.0 1.0 \t 0.167 \t 8.579\n",
      "0 \t -1.0 -1.0 \t 0.154 \t 9.273\n",
      "434 \t -0.034 -0.034 \t 0.071 \t 6.988\n",
      "450 \t -1.0 0.034 \t 0.067 \t 6.353\n",
      "899 \t 1.0 1.0 \t 0.188 \t 6.692\n",
      "29 \t 1.0 -1.0 \t 0.176 \t 7.004\n",
      "0 \t -1.0 -1.0 \t 0.167 \t 7.164\n",
      "870 \t -1.0 1.0 \t 0.158 \t 7.524\n",
      "14 \t -0.034 -1.0 \t 0.1 \t 7.607\n",
      "884 \t -0.034 1.0 \t 0.048 \t 6.992\n",
      "479 \t 1.0 0.034 \t 0.045 \t 7.101\n",
      "899 \t 1.0 1.0 \t 0.174 \t 6.357\n",
      "29 \t 1.0 -1.0 \t 0.167 \t 6.603\n",
      "0 \t -1.0 -1.0 \t 0.16 \t 6.761\n",
      "870 \t -1.0 1.0 \t 0.154 \t 7.014\n",
      "435 \t 0.034 -0.034 \t 0.037 \t 6.935\n",
      "420 \t -1.0 -0.034 \t 0.071 \t 6.291\n",
      "14 \t -0.034 -1.0 \t 0.103 \t 6.368\n",
      "899 \t 1.0 1.0 \t 0.167 \t 6.409\n",
      "29 \t 1.0 -1.0 \t 0.161 \t 6.533\n",
      "870 \t -1.0 1.0 \t 0.156 \t 6.619\n",
      "0 \t -1.0 -1.0 \t 0.152 \t 6.717\n",
      "884 \t -0.034 1.0 \t 0.059 \t 6.679\n",
      "449 \t 1.0 -0.034 \t 0.057 \t 6.726\n",
      "\n",
      "\n",
      "\n",
      "\n",
      " \n",
      "Протокол решения к плану с сеткой 30x30 и c количеством наблюдений 40\n",
      "i (индекс) -> x[i] (добавленной) -> p[i] (изменёный у x) -> max (f M f.T)\n",
      "0 \t -1.0 -1.0 \t 1.0 \t 60.0\n",
      "899 \t 1.0 1.0 \t 0.5 \t 53.443\n",
      "29 \t 1.0 -1.0 \t 0.333 \t 50.244\n",
      "870 \t -1.0 1.0 \t 0.25 \t 48.35\n",
      "14 \t -0.034 -1.0 \t 0.2 \t 7.993\n",
      "420 \t -1.0 -0.034 \t 0.167 \t 7.745\n",
      "496 \t 0.103 0.103 \t 0.143 \t 17.039\n",
      "883 \t -0.103 1.0 \t 0.125 \t 9.617\n",
      "449 \t 1.0 -0.034 \t 0.111 \t 9.549\n",
      "899 \t 1.0 1.0 \t 0.2 \t 7.549\n",
      "29 \t 1.0 -1.0 \t 0.182 \t 8.063\n",
      "870 \t -1.0 1.0 \t 0.167 \t 8.579\n",
      "0 \t -1.0 -1.0 \t 0.154 \t 9.273\n",
      "434 \t -0.034 -0.034 \t 0.071 \t 6.988\n",
      "450 \t -1.0 0.034 \t 0.067 \t 6.353\n",
      "899 \t 1.0 1.0 \t 0.188 \t 6.692\n",
      "29 \t 1.0 -1.0 \t 0.176 \t 7.004\n",
      "0 \t -1.0 -1.0 \t 0.167 \t 7.164\n",
      "870 \t -1.0 1.0 \t 0.158 \t 7.524\n",
      "14 \t -0.034 -1.0 \t 0.1 \t 7.607\n",
      "884 \t -0.034 1.0 \t 0.048 \t 6.992\n",
      "479 \t 1.0 0.034 \t 0.045 \t 7.101\n",
      "899 \t 1.0 1.0 \t 0.174 \t 6.357\n",
      "29 \t 1.0 -1.0 \t 0.167 \t 6.603\n",
      "0 \t -1.0 -1.0 \t 0.16 \t 6.761\n",
      "870 \t -1.0 1.0 \t 0.154 \t 7.014\n",
      "435 \t 0.034 -0.034 \t 0.037 \t 6.935\n",
      "420 \t -1.0 -0.034 \t 0.071 \t 6.291\n",
      "14 \t -0.034 -1.0 \t 0.103 \t 6.368\n",
      "899 \t 1.0 1.0 \t 0.167 \t 6.409\n",
      "29 \t 1.0 -1.0 \t 0.161 \t 6.533\n",
      "870 \t -1.0 1.0 \t 0.156 \t 6.619\n",
      "0 \t -1.0 -1.0 \t 0.152 \t 6.717\n",
      "884 \t -0.034 1.0 \t 0.059 \t 6.679\n",
      "449 \t 1.0 -0.034 \t 0.057 \t 6.726\n",
      "465 \t 0.034 0.034 \t 0.028 \t 6.273\n",
      "899 \t 1.0 1.0 \t 0.162 \t 6.303\n",
      "29 \t 1.0 -1.0 \t 0.158 \t 6.428\n",
      "870 \t -1.0 1.0 \t 0.154 \t 6.502\n",
      "0 \t -1.0 -1.0 \t 0.15 \t 6.666\n",
      "\n",
      "\n",
      "\n",
      "\n",
      " \n"
     ]
    }
   ],
   "source": [
    "determinats = [[], []]\n",
    "p = {20 : [],\n",
    "     30 : []}\n",
    "for grid in range(2):\n",
    "    x = X_calc(grid_size[grid])\n",
    "    n = grid_size[grid]*grid_size[grid]\n",
    "    for j in range(len(N_list)):\n",
    "        #тут начинается алгоритм\n",
    "        CurP = np.zeros(n)\n",
    "        print(f\"Протокол решения к плану с сеткой {grid_size[grid]}x{grid_size[grid]} и c количеством наблюдений {N_list[j]}\")\n",
    "        print(\"i (индекс) -> x[i] (добавленной) -> p[i] (изменёный у x) -> max (f M f.T)\")\n",
    "        for s in range(N_list[j]):\n",
    "            M = M_calc(x, CurP, m)\n",
    "            D = D_calc(M)\n",
    "\n",
    "            maxD = 0\n",
    "            i = -1\n",
    "            for i in range(len(x)):\n",
    "                if (s < m and CurP[i] == 0) or (s >= m):\n",
    "                    cur_d = d_calc(x[i], D)\n",
    "                    if maxD < cur_d:\n",
    "                        maxD = cur_d\n",
    "                        ind = i\n",
    "            # перераспределение весов\n",
    "            for k in range(n):\n",
    "                if CurP[k] != 0:\n",
    "                    if k == ind:\n",
    "                        CurP[k] = (CurP[k] * s + 1) / (s + 1)\n",
    "                    else:\n",
    "                        CurP[k] = CurP[k] * s / (s + 1)\n",
    "                else:\n",
    "                    if k == ind:\n",
    "                        CurP[k] += 1 / (s + 1)\n",
    "            print(ind, '\\t', *[round(i, 3) for i in x[ind]],'\\t', round(CurP[ind], 3), \"\\t\", round(maxD, 3))\n",
    "        \n",
    "        print('\\n\\n\\n\\n ')\n",
    "        p[grid_size[grid]].append(CurP)\n",
    "        determinats[grid].append(np.linalg.det(M))\n",
    "    "
   ]
  },
  {
   "cell_type": "code",
   "execution_count": 26,
   "metadata": {},
   "outputs": [
    {
     "name": "stdout",
     "output_type": "stream",
     "text": [
      "[[0.01066677771942713, 0.011001100802242678, 0.01110539550477539, 0.011216435115532464, 0.01123504563793842], [0.010630285809829547, 0.010979702612270496, 0.011099408579690134, 0.011218859746974438, 0.011237278516881416]]\n"
     ]
    }
   ],
   "source": [
    "print(determinats)"
   ]
  },
  {
   "cell_type": "code",
   "execution_count": 12,
   "metadata": {},
   "outputs": [],
   "source": [
    "def printGrid(p, N, j, N_list):\n",
    "    x = np.arange(-1, 1, 2/N)\n",
    "    y = np.arange(-1, 1, 2/N)\n",
    "    X, Y = np.meshgrid(x, y)\n",
    "    sizes = []\n",
    "    for i in range(len(p)):\n",
    "        if p[i] > 0:\n",
    "            sizes.append(100)\n",
    "        else:\n",
    "            sizes.append(0)\n",
    "    \n",
    "    plt.scatter(X, Y, s=sizes, c='blue')\n",
    "    plt.axhline(0, color='black', linewidth=0.5)\n",
    "    plt.axvline(0, color='black', linewidth=0.5)\n",
    "    plt.xticks([-1, -0.5, 0, 0.5, 1])\n",
    "    plt.yticks([-1, -0.5, 0, 0.5, 1])\n",
    "    plt.grid(True)\n",
    "    titl = f'Полученный план сетки {N}x{N} для {N_list[j]} наблюдений'\n",
    "    plt.title(titl)\n",
    "    plt.show()"
   ]
  },
  {
   "cell_type": "code",
   "execution_count": 25,
   "metadata": {},
   "outputs": [
    {
     "data": {
      "image/png": "[encoded data removed]",
      "text/plain": [
       "<Figure size 640x480 with 1 Axes>"
      ]
     },
     "metadata": {},
     "output_type": "display_data"
    }
   ],
   "source": [
    "N = 30\n",
    "i = 4\n",
    "printGrid(p[N][i], N, i, N_list)"
   ]
  },
  {
   "cell_type": "code",
   "execution_count": 14,
   "metadata": {},
   "outputs": [
    {
     "data": {
      "image/png": "[encoded data removed]",
      "text/plain": [
       "<Figure size 640x480 with 1 Axes>"
      ]
     },
     "metadata": {},
     "output_type": "display_data"
    }
   ],
   "source": [
    "plt.plot(N_list, determinats[0], color='r', label='Сетка 20x20')\n",
    "plt.plot(N_list, determinats[1], color='b', label='Сетка 30x30')\n",
    "plt.xlabel('Количество наблюдений')\n",
    "plt.ylabel('Значние определителя M')\n",
    "plt.legend()\n",
    "plt.show()"
   ]
  },
  {
   "cell_type": "code",
   "execution_count": 15,
   "metadata": {},
   "outputs": [
    {
     "data": {
      "text/plain": [
       "0.9999999999999999"
      ]
     },
     "execution_count": 15,
     "metadata": {},
     "output_type": "execute_result"
    }
   ],
   "source": [
    "sum(p[20][2])"
   ]
  },
  {
   "cell_type": "code",
   "execution_count": 16,
   "metadata": {},
   "outputs": [
    {
     "name": "stdout",
     "output_type": "stream",
     "text": [
      "1.0667E-02 1.1001E-02 1.1105E-02 1.1216E-02 1.1235E-02\n",
      "1.0630E-02 1.0980E-02 1.1099E-02 1.1219E-02 1.1237E-02\n"
     ]
    }
   ],
   "source": [
    "print(*['%.4E' % e for e in determinats[0]])\n",
    "print(*['%.4E' % e for e in determinats[1]])"
   ]
  },
  {
   "cell_type": "code",
   "execution_count": null,
   "metadata": {},
   "outputs": [],
   "source": []
  }
 ],
 "metadata": {
  "kernelspec": {
   "display_name": "base",
   "language": "python",
   "name": "python3"
  },
  "language_info": {
   "codemirror_mode": {
    "name": "ipython",
    "version": 3
   },
   "file_extension": ".py",
   "mimetype": "text/x-python",
   "name": "python",
   "nbconvert_exporter": "python",
   "pygments_lexer": "ipython3",
   "version": "3.11.7"
  }
 },
 "nbformat": 4,
 "nbformat_minor": 2
}
