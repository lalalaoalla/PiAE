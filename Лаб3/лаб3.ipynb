{
 "cells": [
  {
   "attachments": {
    "image.png": {
     "image/png": "[encoded data removed]"
    }
   },
   "cell_type": "markdown",
   "metadata": {},
   "source": [
    "![image.png](attachment:image.png)"
   ]
  },
  {
   "cell_type": "markdown",
   "metadata": {},
   "source": [
    "Модель остается той же"
   ]
  },
  {
   "cell_type": "code",
   "execution_count": 1,
   "metadata": {},
   "outputs": [
    {
     "data": {
      "text/plain": [
       "'%.3f'"
      ]
     },
     "execution_count": 1,
     "metadata": {},
     "output_type": "execute_result"
    }
   ],
   "source": [
    "%precision 3"
   ]
  },
  {
   "cell_type": "code",
   "execution_count": null,
   "metadata": {},
   "outputs": [],
   "source": [
    "#импорт библиотек\n",
    "import numpy as np\n",
    "import matplotlib.pyplot as plt\n",
    "from numpy.linalg import inv"
   ]
  },
  {
   "cell_type": "code",
   "execution_count": null,
   "metadata": {},
   "outputs": [],
   "source": [
    "#изначальные параметры\n",
    "m = 6#количество неизвестных параметров\n",
    "n =400#для сетки 20х20 изначальное количество точек(почему это определяется как разм_стеки х разм_сетки хз)\n",
    "# для сетки 30х30 изначальное количество точек будет рано 900\n",
    "N_list = [20, 25, 30, 35, 40]#для такой размерности нужно делать\n",
    "grid_size_list = [20,30]# размерность сеток списком"
   ]
  },
  {
   "cell_type": "code",
   "execution_count": null,
   "metadata": {},
   "outputs": [],
   "source": [
    "# наша функция\n",
    "def func(x1, x2):\n",
    "    return np.array([1, x1, x2, x1*x2, x1**2, x2**2])"
   ]
  },
  {
   "cell_type": "markdown",
   "metadata": {},
   "source": [
    "Итак, теперь итог на сейчашный момент: я запуталась, что мы подаем изначально, и что вообще происходит, как считать"
   ]
  },
  {
   "cell_type": "code",
   "execution_count": null,
   "metadata": {},
   "outputs": [],
   "source": [
    "#Информационная матрица\n",
    "def M_calc(x,p):\n",
    "    M = np.zeros((m, m))\n",
    "    for i in range(n):\n",
    "        M += p[i] * (func(x[i][0], x[i][1]) @ func(x[i][0], x[i][1]).T)\n",
    "    return M"
   ]
  },
  {
   "cell_type": "code",
   "execution_count": null,
   "metadata": {},
   "outputs": [],
   "source": [
    "#Дисперсионная матрица\n",
    "def D_calc(x,p):\n",
    "    return np.linalg.inv(M_calc(x,p))"
   ]
  },
  {
   "cell_type": "code",
   "execution_count": null,
   "metadata": {},
   "outputs": [
    {
     "name": "stdout",
     "output_type": "stream",
     "text": [
      "[[-1.  -1. ]\n",
      " [-0.5 -1. ]\n",
      " [ 0.  -1. ]\n",
      " [ 0.5 -1. ]\n",
      " [ 1.  -1. ]\n",
      " [-1.  -0.5]\n",
      " [-0.5 -0.5]\n",
      " [ 0.  -0.5]\n",
      " [ 0.5 -0.5]\n",
      " [ 1.  -0.5]\n",
      " [-1.   0. ]\n",
      " [-0.5  0. ]\n",
      " [ 0.   0. ]\n",
      " [ 0.5  0. ]\n",
      " [ 1.   0. ]\n",
      " [-1.   0.5]\n",
      " [-0.5  0.5]\n",
      " [ 0.   0.5]\n",
      " [ 0.5  0.5]\n",
      " [ 1.   0.5]\n",
      " [-1.   1. ]\n",
      " [-0.5  1. ]\n",
      " [ 0.   1. ]\n",
      " [ 0.5  1. ]\n",
      " [ 1.   1. ]]\n"
     ]
    }
   ],
   "source": [
    "def our_algoritm(grid_size):\n",
    "    #создаем по 20(30) точек в этом отрезке\n",
    "    x1 = np.linspace(-1,1,grid_size)\n",
    "    x2 = np.linspace(-1,1,grid_size)\n",
    "    #для создания в целом квадрата точек\n",
    "    X1, X2 = np.meshgrid(x1, x2)#матрицы, где каждая строка копия x1(x2)\n",
    "    X = np.column_stack([X1.ravel(), X2.ravel()])#преобразе матрицы в вектора, и выводим координаты\n",
    "\n",
    "    return X\n",
    "\n",
    "res = our_algoritm(5)\n",
    "print(res)"
   ]
  },
  {
   "cell_type": "code",
   "execution_count": null,
   "metadata": {},
   "outputs": [],
   "source": []
  },
  {
   "cell_type": "code",
   "execution_count": null,
   "metadata": {},
   "outputs": [],
   "source": []
  }
 ],
 "metadata": {
  "kernelspec": {
   "display_name": "base",
   "language": "python",
   "name": "python3"
  },
  "language_info": {
   "codemirror_mode": {
    "name": "ipython",
    "version": 3
   },
   "file_extension": ".py",
   "mimetype": "text/x-python",
   "name": "python",
   "nbconvert_exporter": "python",
   "pygments_lexer": "ipython3",
   "version": "3.11.7"
  }
 },
 "nbformat": 4,
 "nbformat_minor": 2
}
