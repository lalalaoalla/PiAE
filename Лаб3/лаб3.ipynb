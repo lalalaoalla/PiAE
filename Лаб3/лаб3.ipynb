{
 "cells": [
  {
   "attachments": {
    "image.png": {
     "image/png": "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"
    }
   },
   "cell_type": "markdown",
   "metadata": {},
   "source": [
    "![image.png](attachment:image.png)"
   ]
  },
  {
   "cell_type": "markdown",
   "metadata": {},
   "source": [
    "Модель остается той же"
   ]
  },
  {
   "cell_type": "code",
<<<<<<< Updated upstream
   "execution_count": 1,
=======
   "execution_count": 15,
>>>>>>> Stashed changes
   "metadata": {},
   "outputs": [
    {
     "data": {
      "text/plain": [
       "'%.3f'"
      ]
     },
<<<<<<< Updated upstream
     "execution_count": 1,
=======
     "execution_count": 15,
>>>>>>> Stashed changes
     "metadata": {},
     "output_type": "execute_result"
    }
   ],
   "source": [
    "%precision 3"
   ]
  },
  {
   "cell_type": "code",
<<<<<<< Updated upstream
   "execution_count": 1,
=======
   "execution_count": 16,
>>>>>>> Stashed changes
   "metadata": {},
   "outputs": [],
   "source": [
    "#импорт библиотек\n",
    "import numpy as np\n",
    "import matplotlib.pyplot as plt\n",
    "from numpy.linalg import inv"
   ]
  },
  {
   "cell_type": "code",
<<<<<<< Updated upstream
   "execution_count": null,
=======
   "execution_count": 17,
>>>>>>> Stashed changes
   "metadata": {},
   "outputs": [
    {
     "name": "stdout",
     "output_type": "stream",
     "text": [
      "400\n"
     ]
    }
   ],
   "source": [
    "#изначальные параметры\n",
    "m = 6#количество неизвестных параметров\n",
    "# для сетки 30х30 изначальное количество точек будет рано 900\n",
    "N_list = [20, 25, 30, 35, 40]#для такой размерности нужно делать\n",
    "grid_size = 20#30\n",
    "n = grid_size*grid_size#почему это определяется как разм_стеки х разм_сетки хз\n",
    "s = n#для итераций\n",
    "p=[1/n]*n#наши изначальные пэшки"
   ]
  },
  {
   "cell_type": "code",
<<<<<<< Updated upstream
   "execution_count": null,
=======
   "execution_count": 18,
>>>>>>> Stashed changes
   "metadata": {},
   "outputs": [],
   "source": [
    "# наша функция\n",
    "def func(x1, x2):\n",
    "    return np.array([1, x1, x2, x1*x2, x1**2, x2**2])"
   ]
  },
  {
   "cell_type": "code",
<<<<<<< Updated upstream
   "execution_count": null,
=======
   "execution_count": 19,
>>>>>>> Stashed changes
   "metadata": {},
   "outputs": [],
   "source": [
    "#Информационная матрица\n",
    "def M_calc(x,p):\n",
    "    M = np.zeros((m, m))\n",
    "    for i in range(n):\n",
    "        M += p[i] * (func(x[i][0], x[i][1]) @ func(x[i][0], x[i][1]).T)\n",
    "    return M"
   ]
  },
  {
   "cell_type": "code",
<<<<<<< Updated upstream
   "execution_count": null,
=======
   "execution_count": 20,
>>>>>>> Stashed changes
   "metadata": {},
   "outputs": [],
   "source": [
    "#Дисперсионная матрица\n",
    "def D_calc(x,p):\n",
    "    return np.linalg.inv(M_calc(x,p))"
   ]
  },
  {
   "cell_type": "code",
<<<<<<< Updated upstream
   "execution_count": null,
=======
   "execution_count": 21,
>>>>>>> Stashed changes
   "metadata": {},
   "outputs": [],
   "source": [
    "def X_calc():\n",
    "    #создаем по 20(30) точек в этом отрезке\n",
    "    x1 = np.linspace(-1,1,grid_size)\n",
    "    x2 = np.linspace(-1,1,grid_size)\n",
    "    #для создания в целом квадрата точек\n",
    "    X1, X2 = np.meshgrid(x1, x2)#матрицы, где каждая строка копия x1(x2)\n",
    "    X = np.column_stack([X1.ravel(), X2.ravel()])#преобразе матрицы в вектора, и выводим координаты\n",
    "    return X"
   ]
  },
  {
   "cell_type": "code",
<<<<<<< Updated upstream
   "execution_count": null,
   "metadata": {},
   "outputs": [],
   "source": [
=======
   "execution_count": 22,
   "metadata": {},
   "outputs": [],
   "source": [
    "def d_calc(x, D):\n",
    "    return func(x) @ D @ func(x).T"
   ]
  },
  {
   "cell_type": "code",
   "execution_count": 23,
   "metadata": {},
   "outputs": [
    {
     "data": {
      "text/plain": [
       "400"
      ]
     },
     "execution_count": 23,
     "metadata": {},
     "output_type": "execute_result"
    }
   ],
   "source": [
>>>>>>> Stashed changes
    "#изначальные матрицы и х\n",
    "x = X_calc()\n",
    "M = M_calc(x,p)\n",
    "D = D_calc(x,p)"
   ]
  },
  {
   "cell_type": "code",
<<<<<<< Updated upstream
   "execution_count": null,
=======
   "execution_count": 24,
   "metadata": {},
   "outputs": [],
   "source": [
    "determinats = [[], []]\n",
    "p = {20 : [],\n",
    "     30 : []}\n",
    "for grid in range(2):\n",
    "    x = X_calc(grid_size[grid])\n",
    "    n = grid_size[grid]*grid_size[grid]\n",
    "    for j in range(len(N_list)):\n",
    "        #тут начинается алгоритм\n",
    "        CurP = np.zeros(n)\n",
    "        for s in range(N_list[j]):\n",
    "            M = M_calc(x, CurP, m)\n",
    "            D = D_calc(M)\n",
    "\n",
    "            maxD = 0\n",
    "            i = -1\n",
    "            for i in range(len(x)):\n",
    "                if (s < m and CurP[i] == 0) or (s >= m):\n",
    "                    cur_d = d_calc(x[i], D)\n",
    "                    if maxD < cur_d:\n",
    "                        maxD = cur_d\n",
    "                        ind = i\n",
    "            # перераспределение весов\n",
    "            for k in range(n):\n",
    "                if CurP[k] != 0:\n",
    "                    if k == ind:\n",
    "                        CurP[k] = (CurP[k] * s + 1) / (s + 1)\n",
    "                    else:\n",
    "                        CurP[k] = CurP[k] * s / (s + 1)\n",
    "                else:\n",
    "                    if k == ind:\n",
    "                        CurP[k] += 1 / (s + 1)\n",
    "        p[grid_size[grid]].append(CurP)\n",
    "        determinats[grid].append(np.linalg.det(M))\n"
   ]
  },
  {
   "cell_type": "code",
   "execution_count": 25,
>>>>>>> Stashed changes
   "metadata": {},
   "outputs": [
    {
     "name": "stdout",
     "output_type": "stream",
     "text": [
<<<<<<< Updated upstream
      "[[-1.  -1. ]\n",
      " [-0.5 -1. ]\n",
      " [ 0.  -1. ]\n",
      " [ 0.5 -1. ]\n",
      " [ 1.  -1. ]\n",
      " [-1.  -0.5]\n",
      " [-0.5 -0.5]\n",
      " [ 0.  -0.5]\n",
      " [ 0.5 -0.5]\n",
      " [ 1.  -0.5]\n",
      " [-1.   0. ]\n",
      " [-0.5  0. ]\n",
      " [ 0.   0. ]\n",
      " [ 0.5  0. ]\n",
      " [ 1.   0. ]\n",
      " [-1.   0.5]\n",
      " [-0.5  0.5]\n",
      " [ 0.   0.5]\n",
      " [ 0.5  0.5]\n",
      " [ 1.   0.5]\n",
      " [-1.   1. ]\n",
      " [-0.5  1. ]\n",
      " [ 0.   1. ]\n",
      " [ 0.5  1. ]\n",
      " [ 1.   1. ]]\n"
     ]
    }
   ],
   "source": [
    "def our_algoritm(grid_size):\n",
    "\n",
    "\n"
=======
      "[[36.2818897790436, 36.431496075076176, 36.529513993166454, 36.59870311181848, 36.650151430816116], [36.512139707146844, 36.613777268157904, 36.68036739433756, 36.72737218928792, 36.76232447271257]]\n"
     ]
    }
   ],
   "source": [
    "print(determinats)"
   ]
  },
  {
   "cell_type": "code",
   "execution_count": 35,
   "metadata": {},
   "outputs": [],
   "source": [
    "def printGrid(p, N, j, N_list):\n",
    "    x = np.arange(-1, 1, 2/N)\n",
    "    y = np.arange(-1, 1, 2/N)\n",
    "    X, Y = np.meshgrid(x, y)\n",
    "    sizes = []\n",
    "    for i in range(len(p)):\n",
    "        if p[i] > 0:\n",
    "            sizes.append(100)\n",
    "        else:\n",
    "            sizes.append(0)\n",
    "    \n",
    "    plt.scatter(X, Y, s=sizes, c='blue')\n",
    "    plt.axhline(0, color='black', linewidth=0.5)\n",
    "    plt.axvline(0, color='black', linewidth=0.5)\n",
    "    plt.xticks([-1, -0.5, 0, 0.5, 1])\n",
    "    plt.yticks([-1, -0.5, 0, 0.5, 1])\n",
    "    plt.grid(True)\n",
    "    titl = f'Полученный план сетки {N}x{N} для {N_list[j]} наблюдений'\n",
    "    plt.title(titl)\n",
    "    plt.show()\n"
   ]
  },
  {
   "cell_type": "code",
   "execution_count": 47,
   "metadata": {},
   "outputs": [
    {
     "data": {
      "image/png": "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",
      "text/plain": [
       "<Figure size 640x480 with 1 Axes>"
      ]
     },
     "metadata": {},
     "output_type": "display_data"
    }
   ],
   "source": [
    "N = 30\n",
    "i=4\n",
    "printGrid(p[N][i], N,i,N_list)"
>>>>>>> Stashed changes
   ]
  },
  {
   "cell_type": "code",
<<<<<<< Updated upstream
   "execution_count": null,
   "metadata": {},
   "outputs": [],
   "source": []
  },
  {
   "cell_type": "code",
   "execution_count": null,
   "metadata": {},
   "outputs": [],
   "source": []
=======
   "execution_count": 28,
   "metadata": {},
   "outputs": [
    {
     "data": {
      "image/png": "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",
      "text/plain": [
       "<Figure size 640x480 with 1 Axes>"
      ]
     },
     "metadata": {},
     "output_type": "display_data"
    }
   ],
   "source": [
    "plt.plot(N_list, determinats[0], color='r', label='20')\n",
    "plt.plot(N_list, determinats[1], color='b', label='30')\n",
    "plt.show()"
   ]
>>>>>>> Stashed changes
  }
 ],
 "metadata": {
  "kernelspec": {
   "display_name": "base",
   "language": "python",
   "name": "python3"
  },
  "language_info": {
   "codemirror_mode": {
    "name": "ipython",
    "version": 3
   },
   "file_extension": ".py",
   "mimetype": "text/x-python",
   "name": "python",
   "nbconvert_exporter": "python",
   "pygments_lexer": "ipython3",
   "version": "3.11.7"
  }
 },
 "nbformat": 4,
 "nbformat_minor": 2
}
