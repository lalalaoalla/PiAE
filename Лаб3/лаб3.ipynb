{
 "cells": [
  {
   "attachments": {
    "image.png": {
     "image/png": "[encoded data removed]"
    }
   },
   "cell_type": "markdown",
   "metadata": {},
   "source": [
    "![image.png](attachment:image.png)"
   ]
  },
  {
   "cell_type": "markdown",
   "metadata": {},
   "source": [
    "Модель остается той же"
   ]
  },
  {
   "cell_type": "code",
   "execution_count": 496,
   "metadata": {},
   "outputs": [
    {
     "data": {
      "text/plain": [
       "'%.3f'"
      ]
     },
     "execution_count": 496,
     "metadata": {},
     "output_type": "execute_result"
    }
   ],
   "source": [
    "%precision 3"
   ]
  },
  {
   "cell_type": "code",
   "execution_count": 497,
   "metadata": {},
   "outputs": [],
   "source": [
    "#импорт библиотек\n",
    "import numpy as np\n",
    "import matplotlib.pyplot as plt\n",
    "from numpy.linalg import inv"
   ]
  },
  {
   "cell_type": "code",
   "execution_count": 498,
   "metadata": {},
   "outputs": [],
   "source": [
    "#изначальные параметры\n",
    "m = 6#количество неизвестных параметров\n",
    "# для сетки 30х30 изначальное количество точек будет равно 900\n",
    "N_list = [20, 25, 30, 35, 40]#для такой размерности нужно делать\n",
    "grid_size = [20, 30]#30\n",
    "n = grid_size[0]*grid_size[0]#почему это определяется как разм_стеки х разм_сетки хз\n",
    "s = n#для итераций\n",
    "p=[0]*n#наши изначальные пэшки"
   ]
  },
  {
   "cell_type": "code",
   "execution_count": 499,
   "metadata": {},
   "outputs": [],
   "source": [
    "# наша функция\n",
    "def func(x):\n",
    "    return np.array([1, x[0], x[1], x[0]*x[1], x[0]**2, x[1]**2])"
   ]
  },
  {
   "cell_type": "code",
   "execution_count": 500,
   "metadata": {},
   "outputs": [],
   "source": [
    "# Информационная матрица\n",
    "def M_calc(x, p, m):\n",
    "    n_rg = np.count_nonzero(p)\n",
    "    # Если n_rg < m, то матрица вырожденная, мы её регуляризируем\n",
    "\n",
    "    M = np.zeros((m, m))\n",
    "    for i in range(n):\n",
    "        M += p[i] * np.outer(func(x[i]), func(x[i]))\n",
    "    \n",
    "    # Регуляризация\n",
    "    if n_rg < m:\n",
    "        gamma = 0.1\n",
    "        M += gamma * np.eye(m)\n",
    "    return M"
   ]
  },
  {
   "cell_type": "code",
   "execution_count": 501,
   "metadata": {},
   "outputs": [],
   "source": [
    "#Дисперсионная матрица\n",
    "def D_calc(M):\n",
    "    return np.linalg.inv(M)"
   ]
  },
  {
   "cell_type": "code",
   "execution_count": 502,
   "metadata": {},
   "outputs": [],
   "source": [
    "def X_calc(grid_size):\n",
    "    #создаем по 20(30) точек в этом отрезке\n",
    "    x1 = np.linspace(-1,1,grid_size)\n",
    "    x2 = np.linspace(-1,1,grid_size)\n",
    "    #для создания в целом квадрата точек\n",
    "    X1, X2 = np.meshgrid(x1, x2)#матрицы, где каждая строка копия x1(x2)\n",
    "    X = np.column_stack([X1.ravel(), X2.ravel()])#преобразе матрицы в вектора, и выводим координаты\n",
    "    return X"
   ]
  },
  {
   "cell_type": "code",
   "execution_count": 503,
   "metadata": {},
   "outputs": [],
   "source": [
    "def d_calc(x, D):\n",
    "    return func(x) @ D @ func(x).T"
   ]
  },
  {
   "cell_type": "code",
   "execution_count": 504,
   "metadata": {},
   "outputs": [
    {
     "data": {
      "text/plain": [
       "400"
      ]
     },
     "execution_count": 504,
     "metadata": {},
     "output_type": "execute_result"
    }
   ],
   "source": [
    "#изначальные матрицы и х\n",
    "x = X_calc(grid_size[0])\n",
    "M = M_calc(x, p, m)\n",
    "D = D_calc(M)\n",
    "len(x)"
   ]
  },
  {
   "cell_type": "code",
   "execution_count": 505,
   "metadata": {},
   "outputs": [
    {
     "name": "stdout",
     "output_type": "stream",
     "text": [
      "Протокол решения к плану с сеткой 20x20 и c количеством наблюдений 20\n",
      "i (индекс) -> x[i] (добавленной) -> p[i] (изменёный у x) -> max (f M f.T)\n",
      "1.0\n",
      "0.5\n",
      "0.333\n",
      "0.25\n",
      "0.2\n",
      "0.167\n",
      "0.143\n",
      "0.125\n",
      "0.111\n",
      "0.2\n",
      "0.182\n",
      "0.167\n",
      "0.154\n",
      "0.071\n",
      "0.067\n",
      "0.188\n",
      "0.176\n",
      "0.167\n",
      "0.158\n",
      "0.1\n",
      "\n",
      "\n",
      "\n",
      "\n",
      " \n",
      "Протокол решения к плану с сеткой 20x20 и c количеством наблюдений 25\n",
      "i (индекс) -> x[i] (добавленной) -> p[i] (изменёный у x) -> max (f M f.T)\n",
      "1.0\n",
      "0.5\n",
      "0.333\n",
      "0.25\n",
      "0.2\n",
      "0.167\n",
      "0.143\n",
      "0.125\n",
      "0.111\n",
      "0.2\n",
      "0.182\n",
      "0.167\n",
      "0.154\n",
      "0.071\n",
      "0.067\n",
      "0.188\n",
      "0.176\n",
      "0.167\n",
      "0.158\n",
      "0.1\n",
      "0.095\n",
      "0.045\n",
      "0.174\n",
      "0.167\n",
      "0.16\n",
      "\n",
      "\n",
      "\n",
      "\n",
      " \n",
      "Протокол решения к плану с сеткой 20x20 и c количеством наблюдений 30\n",
      "i (индекс) -> x[i] (добавленной) -> p[i] (изменёный у x) -> max (f M f.T)\n",
      "1.0\n",
      "0.5\n",
      "0.333\n",
      "0.25\n",
      "0.2\n",
      "0.167\n",
      "0.143\n",
      "0.125\n",
      "0.111\n",
      "0.2\n",
      "0.182\n",
      "0.167\n",
      "0.154\n",
      "0.071\n",
      "0.067\n",
      "0.188\n",
      "0.176\n",
      "0.167\n",
      "0.158\n",
      "0.1\n",
      "0.095\n",
      "0.045\n",
      "0.174\n",
      "0.167\n",
      "0.16\n",
      "0.154\n",
      "0.037\n",
      "0.071\n",
      "0.103\n",
      "0.167\n",
      "\n",
      "\n",
      "\n",
      "\n",
      " \n",
      "Протокол решения к плану с сеткой 20x20 и c количеством наблюдений 35\n",
      "i (индекс) -> x[i] (добавленной) -> p[i] (изменёный у x) -> max (f M f.T)\n",
      "1.0\n",
      "0.5\n",
      "0.333\n",
      "0.25\n",
      "0.2\n",
      "0.167\n",
      "0.143\n",
      "0.125\n",
      "0.111\n",
      "0.2\n",
      "0.182\n",
      "0.167\n",
      "0.154\n",
      "0.071\n",
      "0.067\n",
      "0.188\n",
      "0.176\n",
      "0.167\n",
      "0.158\n",
      "0.1\n",
      "0.095\n",
      "0.045\n",
      "0.174\n",
      "0.167\n",
      "0.16\n",
      "0.154\n",
      "0.037\n",
      "0.071\n",
      "0.103\n",
      "0.167\n",
      "0.161\n",
      "0.156\n",
      "0.152\n",
      "0.088\n",
      "0.057\n",
      "\n",
      "\n",
      "\n",
      "\n",
      " \n",
      "Протокол решения к плану с сеткой 20x20 и c количеством наблюдений 40\n",
      "i (индекс) -> x[i] (добавленной) -> p[i] (изменёный у x) -> max (f M f.T)\n",
      "1.0\n",
      "0.5\n",
      "0.333\n",
      "0.25\n",
      "0.2\n",
      "0.167\n",
      "0.143\n",
      "0.125\n",
      "0.111\n",
      "0.2\n",
      "0.182\n",
      "0.167\n",
      "0.154\n",
      "0.071\n",
      "0.067\n",
      "0.188\n",
      "0.176\n",
      "0.167\n",
      "0.158\n",
      "0.1\n",
      "0.095\n",
      "0.045\n",
      "0.174\n",
      "0.167\n",
      "0.16\n",
      "0.154\n",
      "0.037\n",
      "0.071\n",
      "0.103\n",
      "0.167\n",
      "0.161\n",
      "0.156\n",
      "0.152\n",
      "0.088\n",
      "0.057\n",
      "0.056\n",
      "0.162\n",
      "0.158\n",
      "0.154\n",
      "0.15\n",
      "\n",
      "\n",
      "\n",
      "\n",
      " \n",
      "Протокол решения к плану с сеткой 30x30 и c количеством наблюдений 20\n",
      "i (индекс) -> x[i] (добавленной) -> p[i] (изменёный у x) -> max (f M f.T)\n",
      "1.0\n",
      "0.5\n",
      "0.333\n",
      "0.25\n",
      "0.2\n",
      "0.167\n",
      "0.143\n",
      "0.125\n",
      "0.111\n",
      "0.2\n",
      "0.182\n",
      "0.167\n",
      "0.154\n",
      "0.071\n",
      "0.067\n",
      "0.188\n",
      "0.176\n",
      "0.167\n",
      "0.158\n",
      "0.1\n",
      "\n",
      "\n",
      "\n",
      "\n",
      " \n",
      "Протокол решения к плану с сеткой 30x30 и c количеством наблюдений 25\n",
      "i (индекс) -> x[i] (добавленной) -> p[i] (изменёный у x) -> max (f M f.T)\n",
      "1.0\n",
      "0.5\n",
      "0.333\n",
      "0.25\n",
      "0.2\n",
      "0.167\n",
      "0.143\n",
      "0.125\n",
      "0.111\n",
      "0.2\n",
      "0.182\n",
      "0.167\n",
      "0.154\n",
      "0.071\n",
      "0.067\n",
      "0.188\n",
      "0.176\n",
      "0.167\n",
      "0.158\n",
      "0.1\n",
      "0.048\n",
      "0.045\n",
      "0.174\n",
      "0.167\n",
      "0.16\n",
      "\n",
      "\n",
      "\n",
      "\n",
      " \n",
      "Протокол решения к плану с сеткой 30x30 и c количеством наблюдений 30\n",
      "i (индекс) -> x[i] (добавленной) -> p[i] (изменёный у x) -> max (f M f.T)\n",
      "1.0\n",
      "0.5\n",
      "0.333\n",
      "0.25\n",
      "0.2\n",
      "0.167\n",
      "0.143\n",
      "0.125\n",
      "0.111\n",
      "0.2\n",
      "0.182\n",
      "0.167\n",
      "0.154\n",
      "0.071\n",
      "0.067\n",
      "0.188\n",
      "0.176\n",
      "0.167\n",
      "0.158\n",
      "0.1\n",
      "0.048\n",
      "0.045\n",
      "0.174\n",
      "0.167\n",
      "0.16\n",
      "0.154\n",
      "0.037\n",
      "0.071\n",
      "0.103\n",
      "0.167\n",
      "\n",
      "\n",
      "\n",
      "\n",
      " \n",
      "Протокол решения к плану с сеткой 30x30 и c количеством наблюдений 35\n",
      "i (индекс) -> x[i] (добавленной) -> p[i] (изменёный у x) -> max (f M f.T)\n",
      "1.0\n",
      "0.5\n",
      "0.333\n",
      "0.25\n",
      "0.2\n",
      "0.167\n",
      "0.143\n",
      "0.125\n",
      "0.111\n",
      "0.2\n",
      "0.182\n",
      "0.167\n",
      "0.154\n",
      "0.071\n",
      "0.067\n",
      "0.188\n",
      "0.176\n",
      "0.167\n",
      "0.158\n",
      "0.1\n",
      "0.048\n",
      "0.045\n",
      "0.174\n",
      "0.167\n",
      "0.16\n",
      "0.154\n",
      "0.037\n",
      "0.071\n",
      "0.103\n",
      "0.167\n",
      "0.161\n",
      "0.156\n",
      "0.152\n",
      "0.059\n",
      "0.057\n",
      "\n",
      "\n",
      "\n",
      "\n",
      " \n",
      "Протокол решения к плану с сеткой 30x30 и c количеством наблюдений 40\n",
      "i (индекс) -> x[i] (добавленной) -> p[i] (изменёный у x) -> max (f M f.T)\n",
      "1.0\n",
      "0.5\n",
      "0.333\n",
      "0.25\n",
      "0.2\n",
      "0.167\n",
      "0.143\n",
      "0.125\n",
      "0.111\n",
      "0.2\n",
      "0.182\n",
      "0.167\n",
      "0.154\n",
      "0.071\n",
      "0.067\n",
      "0.188\n",
      "0.176\n",
      "0.167\n",
      "0.158\n",
      "0.1\n",
      "0.048\n",
      "0.045\n",
      "0.174\n",
      "0.167\n",
      "0.16\n",
      "0.154\n",
      "0.037\n",
      "0.071\n",
      "0.103\n",
      "0.167\n",
      "0.161\n",
      "0.156\n",
      "0.152\n",
      "0.059\n",
      "0.057\n",
      "0.028\n",
      "0.162\n",
      "0.158\n",
      "0.154\n",
      "0.15\n",
      "\n",
      "\n",
      "\n",
      "\n",
      " \n"
     ]
    }
   ],
   "source": [
    "determinats = [[], []]\n",
    "p = {20 : [],\n",
    "     30 : []}\n",
    "for grid in range(2):\n",
    "    x = X_calc(grid_size[grid])\n",
    "    n = grid_size[grid]*grid_size[grid]\n",
    "    for j in range(len(N_list)):\n",
    "        #тут начинается алгоритм\n",
    "        CurP = np.zeros(n)\n",
    "        print(f\"Протокол решения к плану с сеткой {grid_size[grid]}x{grid_size[grid]} и c количеством наблюдений {N_list[j]}\")\n",
    "        print(\"i (индекс) -> x[i] (добавленной) -> p[i] (изменёный у x) -> max (f M f.T)\")\n",
    "        for s in range(N_list[j]):\n",
    "            M = M_calc(x, CurP, m)\n",
    "            D = D_calc(M)\n",
    "\n",
    "            maxD = 0\n",
    "            i = -1\n",
    "            for i in range(len(x)):\n",
    "                if (s < m and CurP[i] == 0) or (s >= m):\n",
    "                    cur_d = d_calc(x[i], D)\n",
    "                    if maxD < cur_d:\n",
    "                        maxD = cur_d\n",
    "                        ind = i\n",
    "            # перераспределение весов\n",
    "            for k in range(n):\n",
    "                if CurP[k] != 0:\n",
    "                    if k == ind:\n",
    "                        CurP[k] = (CurP[k] * s + 1) / (s + 1)\n",
    "                    else:\n",
    "                        CurP[k] = CurP[k] * s / (s + 1)\n",
    "                else:\n",
    "                    if k == ind:\n",
    "                        CurP[k] += 1 / (s + 1)\n",
    "            print(round(CurP[ind], 3))\n",
    "            #print(ind, '\\t', *[round(i, 3) for i in x[ind]],'\\t', round(CurP[ind], 3), \"\\t\", round(maxD, 3))\n",
    "        \n",
    "        print('\\n\\n\\n\\n ')\n",
    "        p[grid_size[grid]].append(CurP)\n",
    "        determinats[grid].append(np.linalg.det(M))\n",
    "    "
   ]
  },
  {
   "cell_type": "code",
   "execution_count": 506,
   "metadata": {},
   "outputs": [
    {
     "name": "stdout",
     "output_type": "stream",
     "text": [
      "[[0.010666777719427149, 0.011001100802242678, 0.01110539550477539, 0.011216435115532485, 0.01123504563793842], [0.010630285809829536, 0.010979702612270485, 0.011099408579690134, 0.011218859746974428, 0.011237278516881416]]\n"
     ]
    }
   ],
   "source": [
    "print(determinats)"
   ]
  },
  {
   "cell_type": "code",
   "execution_count": 507,
   "metadata": {},
   "outputs": [],
   "source": [
    "def printGrid(p, N, j, N_list):\n",
    "    x = np.arange(-1, 1, 2/N)\n",
    "    y = np.arange(-1, 1, 2/N)\n",
    "    X, Y = np.meshgrid(x, y)\n",
    "    sizes = []\n",
    "    for i in range(len(p)):\n",
    "        if p[i] > 0:\n",
    "            sizes.append(100)\n",
    "        else:\n",
    "            sizes.append(0)\n",
    "    \n",
    "    plt.scatter(X, Y, s=sizes, c='blue')\n",
    "    plt.axhline(0, color='black', linewidth=0.5)\n",
    "    plt.axvline(0, color='black', linewidth=0.5)\n",
    "    plt.xticks([-1, -0.5, 0, 0.5, 1])\n",
    "    plt.yticks([-1, -0.5, 0, 0.5, 1])\n",
    "    plt.grid(True)\n",
    "    titl = f'Полученный план сетки {N}x{N} для {N_list[j]} наблюдений'\n",
    "    plt.title(titl)\n",
    "    plt.show()"
   ]
  },
  {
   "cell_type": "code",
   "execution_count": 508,
   "metadata": {},
   "outputs": [
    {
     "data": {
      "image/png": "[encoded data removed]",
      "text/plain": [
       "<Figure size 640x480 with 1 Axes>"
      ]
     },
     "metadata": {},
     "output_type": "display_data"
    }
   ],
   "source": [
    "N = 30\n",
    "i = 4\n",
    "printGrid(p[N][i], N, i, N_list)"
   ]
  },
  {
   "cell_type": "code",
   "execution_count": 509,
   "metadata": {},
   "outputs": [
    {
     "data": {
      "image/png": "[encoded data removed]",
      "text/plain": [
       "<Figure size 640x480 with 1 Axes>"
      ]
     },
     "metadata": {},
     "output_type": "display_data"
    }
   ],
   "source": [
    "plt.plot(N_list, determinats[0], color='r', label='Сетка 20x20')\n",
    "plt.plot(N_list, determinats[1], color='b', label='Сетка 30x30')\n",
    "plt.xlabel('Количество наблюдений')\n",
    "plt.ylabel('Значние определителя M')\n",
    "plt.legend()\n",
    "plt.show()"
   ]
  },
  {
   "cell_type": "code",
   "execution_count": 510,
   "metadata": {},
   "outputs": [
    {
     "data": {
      "text/plain": [
       "0.9999999999999999"
      ]
     },
     "execution_count": 510,
     "metadata": {},
     "output_type": "execute_result"
    }
   ],
   "source": [
    "sum(p[20][2])"
   ]
  },
  {
   "cell_type": "code",
   "execution_count": 511,
   "metadata": {},
   "outputs": [
    {
     "name": "stdout",
     "output_type": "stream",
     "text": [
      "1.0667E-02 1.1001E-02 1.1105E-02 1.1216E-02 1.1235E-02\n",
      "1.0630E-02 1.0980E-02 1.1099E-02 1.1219E-02 1.1237E-02\n"
     ]
    }
   ],
   "source": [
    "print(*['%.4E' % e for e in determinats[0]])\n",
    "print(*['%.4E' % e for e in determinats[1]])"
   ]
  },
  {
   "cell_type": "code",
   "execution_count": null,
   "metadata": {},
   "outputs": [],
   "source": []
  }
 ],
 "metadata": {
  "kernelspec": {
   "display_name": "Python 3",
   "language": "python",
   "name": "python3"
  },
  "language_info": {
   "codemirror_mode": {
    "name": "ipython",
    "version": 3
   },
   "file_extension": ".py",
   "mimetype": "text/x-python",
   "name": "python",
   "nbconvert_exporter": "python",
   "pygments_lexer": "ipython3",
   "version": "3.12.1"
  }
 },
 "nbformat": 4,
 "nbformat_minor": 2
}
